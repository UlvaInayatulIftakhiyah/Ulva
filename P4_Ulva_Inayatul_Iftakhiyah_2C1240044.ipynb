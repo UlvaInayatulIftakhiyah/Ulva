{
  "nbformat": 4,
  "nbformat_minor": 0,
  "metadata": {
    "colab": {
      "provenance": [],
      "authorship_tag": "ABX9TyMQ/Yz8L64BFkldsmdqteao",
      "include_colab_link": true
    },
    "kernelspec": {
      "name": "python3",
      "display_name": "Python 3"
    },
    "language_info": {
      "name": "python"
    }
  },
  "cells": [
    {
      "cell_type": "markdown",
      "metadata": {
        "id": "view-in-github",
        "colab_type": "text"
      },
      "source": [
        "<a href=\"https://colab.research.google.com/github/UlvaInayatulIftakhiyah/Ulva/blob/main/P4_Ulva_Inayatul_Iftakhiyah_2C1240044.ipynb\" target=\"_parent\"><img src=\"https://colab.research.google.com/assets/colab-badge.svg\" alt=\"Open In Colab\"/></a>"
      ]
    },
    {
      "cell_type": "code",
      "source": [
        "# Menerima input dua bilangan integer\n",
        "A = int(input(\"Masukkan bilangan A: \"))\n",
        "B = int(input(\"Masukkan bilangan B: \"))\n",
        "\n",
        "# Menentukan bilangan terbesar\n",
        "if A > B:\n",
        "    print(f\"Bilangan terbesar adalah {A}\")\n",
        "elif A < B:\n",
        "    print(f\"Bilangan terbesar adalah {B}\")\n",
        "else:\n",
        "    print(f\"Bilangan terbesar adalah {A} (atau {B})\")"
      ],
      "metadata": {
        "colab": {
          "base_uri": "https://localhost:8080/"
        },
        "id": "v06FLikCoEfL",
        "outputId": "1105b49f-8d30-41ca-a95f-b49e71daf01d"
      },
      "execution_count": 9,
      "outputs": [
        {
          "output_type": "stream",
          "name": "stdout",
          "text": [
            "Masukkan bilangan A: 5\n",
            "Masukkan bilangan B: 5\n",
            "Bilangan terbesar adalah 5 (atau 5)\n"
          ]
        }
      ]
    },
    {
      "cell_type": "code",
      "source": [
        "# Menerima input tiga hambatan\n",
        "R1 = float(input(\"Masukkan hambatan R1: \"))\n",
        "R2 = float(input(\"Masukkan hambatan R2: \"))\n",
        "R3 = float(input(\"Masukkan hambatan R3: \"))\n",
        "\n",
        "# Memeriksa apakah ada hambatan yang bernilai negatif\n",
        "if R1 < 0 or R2 < 0 or R3 < 0:\n",
        "    print(\"Hambatan total tidak bisa dihitung\")\n",
        "else:\n",
        "    # Menghitung hambatan total jika semua nilai positif\n",
        "    RT = R1 + R2 + R3\n",
        "    print(f\"Hambatan total (RT) adalah: {RT}\")"
      ],
      "metadata": {
        "colab": {
          "base_uri": "https://localhost:8080/"
        },
        "id": "AuvrgEZ3o8Qb",
        "outputId": "5845c636-38bd-4617-ecb2-15411d0f5ca4"
      },
      "execution_count": 12,
      "outputs": [
        {
          "output_type": "stream",
          "name": "stdout",
          "text": [
            "Masukkan hambatan R1: -2\n",
            "Masukkan hambatan R2: 3\n",
            "Masukkan hambatan R3: 4\n",
            "Hambatan total tidak bisa dihitung\n",
            "Masukkan hambatan R1: 3\n",
            "Masukkan hambatan R2: 3\n",
            "Masukkan hambatan R3: 3\n",
            "Hambatan total (RT) adalah: 9.0\n"
          ]
        }
      ]
    }
  ]
}