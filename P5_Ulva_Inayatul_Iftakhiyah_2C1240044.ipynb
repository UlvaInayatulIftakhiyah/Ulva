{
  "nbformat": 4,
  "nbformat_minor": 0,
  "metadata": {
    "colab": {
      "provenance": [],
      "authorship_tag": "ABX9TyP42qzCwUogmjDPsYkwYlhv",
      "include_colab_link": true
    },
    "kernelspec": {
      "name": "python3",
      "display_name": "Python 3"
    },
    "language_info": {
      "name": "python"
    }
  },
  "cells": [
    {
      "cell_type": "markdown",
      "metadata": {
        "id": "view-in-github",
        "colab_type": "text"
      },
      "source": [
        "<a href=\"https://colab.research.google.com/github/UlvaInayatulIftakhiyah/Ulva/blob/main/P5_Ulva_Inayatul_Iftakhiyah_2C1240044.ipynb\" target=\"_parent\"><img src=\"https://colab.research.google.com/assets/colab-badge.svg\" alt=\"Open In Colab\"/></a>"
      ]
    },
    {
      "cell_type": "code",
      "execution_count": 3,
      "metadata": {
        "colab": {
          "base_uri": "https://localhost:8080/"
        },
        "id": "zvmkvWAxvVft",
        "outputId": "bac19970-c38a-4089-9baf-267ee5878438"
      },
      "outputs": [
        {
          "output_type": "stream",
          "name": "stdout",
          "text": [
            "Masukkan bilangan (atau -999 untuk berhenti): 6\n",
            "Masukkan bilangan (atau -999 untuk berhenti): 8\n",
            "Masukkan bilangan (atau -999 untuk berhenti): -999\n",
            "Jumlah bilangan yang dimasukkan: 2\n",
            "Total nilai: 14\n",
            "Rata-rata: 7.0\n"
          ]
        }
      ],
      "source": [
        "# Inisialisasi variabel\n",
        "count = 0  # Untuk menghitung jumlah bilangan yang dimasukkan\n",
        "total = 0  # Untuk menghitung total nilai dari bilangan yang dimasukkan\n",
        "\n",
        "# Memulai pengulangan\n",
        "while True:\n",
        "    # Menerima input dari pengguna\n",
        "    num = int(input(\"Masukkan bilangan (atau -999 untuk berhenti): \"))\n",
        "\n",
        "    # Memeriksa apakah pengguna memasukkan -999\n",
        "    if num == -999:\n",
        "        # Jika -999 dimasukkan, keluar dari pengulangan\n",
        "        if count == 0:  # Jika belum ada data yang dimasukkan\n",
        "            print(\"Tidak ada data yang diolah\")\n",
        "        else:\n",
        "            # Jika ada data yang dimasukkan\n",
        "            average = total / count  # Menghitung rata-rata\n",
        "            print(f\"Jumlah bilangan yang dimasukkan: {count}\")\n",
        "            print(f\"Total nilai: {total}\")\n",
        "            print(f\"Rata-rata: {average}\")\n",
        "        break\n",
        "    else:\n",
        "        # Menambahkan nilai ke total dan meningkatkan jumlah bilangan\n",
        "        total += num\n",
        "        count += 1\n"
      ]
    },
    {
      "cell_type": "code",
      "source": [
        "# Mendefinisikan array s dengan 6 elemen integer\n",
        "s = [4, 1, -1, 10, 0, 12]\n",
        "\n",
        "# Menerima input integer d dari pengguna\n",
        "d = int(input(\"Masukkan nilai d: \"))\n",
        "\n",
        "# Mengalikan setiap elemen dalam array s dengan d\n",
        "for i in range(len(s)):\n",
        "  s[i] *= d\n",
        "\n",
        "# Mencetak hasil array s yang telah diperbarui\n",
        "print(\"Setelah elemen s dikalikan d, s = \", s)"
      ],
      "metadata": {
        "colab": {
          "base_uri": "https://localhost:8080/"
        },
        "id": "sy7G0u4kwC4Z",
        "outputId": "0fceabc3-8a85-4b42-d2c5-a3ca1d3ebaee"
      },
      "execution_count": 4,
      "outputs": [
        {
          "output_type": "stream",
          "name": "stdout",
          "text": [
            "Masukkan nilai d: 2\n",
            "Setelah elemen s dikalikan d, s =  [8, 2, -2, 20, 0, 24]\n"
          ]
        }
      ]
    }
  ]
}