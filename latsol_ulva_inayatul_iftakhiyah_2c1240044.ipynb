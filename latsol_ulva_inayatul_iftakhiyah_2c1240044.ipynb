{
  "nbformat": 4,
  "nbformat_minor": 0,
  "metadata": {
    "colab": {
      "provenance": [],
      "authorship_tag": "ABX9TyOMnHvUkJa0KC2ojxm3vtJw",
      "include_colab_link": true
    },
    "kernelspec": {
      "name": "python3",
      "display_name": "Python 3"
    },
    "language_info": {
      "name": "python"
    }
  },
  "cells": [
    {
      "cell_type": "markdown",
      "metadata": {
        "id": "view-in-github",
        "colab_type": "text"
      },
      "source": [
        "<a href=\"https://colab.research.google.com/github/UlvaInayatulIftakhiyah/Ulva/blob/main/latsol_ulva_inayatul_iftakhiyah_2c1240044.ipynb\" target=\"_parent\"><img src=\"https://colab.research.google.com/assets/colab-badge.svg\" alt=\"Open In Colab\"/></a>"
      ]
    },
    {
      "cell_type": "markdown",
      "source": [
        "**SOAL 1**"
      ],
      "metadata": {
        "id": "8tQWdk0lTbd1"
      }
    },
    {
      "cell_type": "code",
      "execution_count": null,
      "metadata": {
        "colab": {
          "base_uri": "https://localhost:8080/"
        },
        "id": "sQt3nXo1K1RY",
        "outputId": "90207c44-bf0c-46ab-86e7-152235f4c619"
      },
      "outputs": [
        {
          "output_type": "stream",
          "name": "stdout",
          "text": [
            "Masukkan nama anda:ulva\n",
            "Hallo ulva ! Selamat belajar Python!\n"
          ]
        }
      ],
      "source": [
        "#program meminta memasukkan nama\n",
        "nama= input(\"Masukkan nama anda:\")\n",
        "print(\"Hallo\" ,nama , \"! Selamat belajar Python!\")"
      ]
    },
    {
      "cell_type": "markdown",
      "source": [
        "**SOAL 2**"
      ],
      "metadata": {
        "id": "gvB20mi9Tp3k"
      }
    },
    {
      "cell_type": "code",
      "source": [
        "# menghitung persegi panjang\n",
        "panjang= int(input(\"Masukkan panjang: \"))\n",
        "lebar= int(input(\"Masukkan lebar: \"))\n",
        "luas=panjang * lebar\n",
        "print(\"Luas persegi panjang: \", luas )"
      ],
      "metadata": {
        "colab": {
          "base_uri": "https://localhost:8080/"
        },
        "id": "Ahacb2etMaHu",
        "outputId": "178d8f01-e970-48aa-f9e4-ee9996a0e9fe"
      },
      "execution_count": null,
      "outputs": [
        {
          "output_type": "stream",
          "name": "stdout",
          "text": [
            "Masukkan panjang: 5\n",
            "Masukkan lebar: 3\n",
            "Luas persegi panjang:  15\n"
          ]
        }
      ]
    },
    {
      "cell_type": "markdown",
      "source": [
        "**SOAL 3**"
      ],
      "metadata": {
        "id": "fYE0rvJzTvyM"
      }
    },
    {
      "cell_type": "code",
      "source": [
        "#program meminta pengguna memasukkan bilangan bulat ganjil atau genap\n",
        "angka = int(input(\"Masukkan bilangan bulat: \"))\n",
        "if angka % 2 == 0:\n",
        "  print(angka, \"adalah bilangan genap\")\n",
        "else:\n",
        "  print(angka,\"adalah bilangan ganjil\")"
      ],
      "metadata": {
        "colab": {
          "base_uri": "https://localhost:8080/"
        },
        "id": "xYF9pMVUO_U-",
        "outputId": "5e6f9053-99ba-471f-9812-5d5715fa8f01"
      },
      "execution_count": null,
      "outputs": [
        {
          "output_type": "stream",
          "name": "stdout",
          "text": [
            "Masukkan bilangan bulat: 7\n",
            "7 adalah bilangan ganjil\n"
          ]
        }
      ]
    },
    {
      "cell_type": "code",
      "source": [
        "#program meminta pengguna memasukkan bilangan bulat ganjil atau genap\n",
        "angka = int(input(\"Masukkan bilangan bulat: \"))\n",
        "if angka % 2 == 0:\n",
        "  print(f\"{angka} adalah bilangan genap\")\n",
        "else:\n",
        "  print(f\"{angka} adalah bilangan ganjil\")"
      ],
      "metadata": {
        "colab": {
          "base_uri": "https://localhost:8080/"
        },
        "id": "ody9ie0Y6RIX",
        "outputId": "7bd4935e-2beb-42fb-f497-e74e202a04e8"
      },
      "execution_count": null,
      "outputs": [
        {
          "output_type": "stream",
          "name": "stdout",
          "text": [
            "Masukkan bilangan bulat: 2\n",
            "2 adalah bilangan genap\n"
          ]
        }
      ]
    },
    {
      "cell_type": "markdown",
      "source": [
        "**SOAL 4**"
      ],
      "metadata": {
        "id": "Y7QTg053TzB8"
      }
    },
    {
      "cell_type": "code",
      "source": [
        "#program menampilkan deret bilangan dari 1 sampai 20\n",
        "for i in range(1,21):\n",
        "  print(i, end=\" \")"
      ],
      "metadata": {
        "colab": {
          "base_uri": "https://localhost:8080/"
        },
        "id": "QDxZW_MRSrOm",
        "outputId": "01da2ea9-316f-4d00-f825-a9f11016a1ab"
      },
      "execution_count": null,
      "outputs": [
        {
          "output_type": "stream",
          "name": "stdout",
          "text": [
            "1 2 3 4 5 6 7 8 9 10 11 12 13 14 15 16 17 18 19 20 "
          ]
        }
      ]
    },
    {
      "cell_type": "markdown",
      "source": [
        "**SOAL 5**"
      ],
      "metadata": {
        "id": "Rgr28TaIT2BU"
      }
    },
    {
      "cell_type": "code",
      "source": [
        "#memasukkan bilangan bulat a dan b\n",
        "a = int(input(\"Masukkan bilangan pertama: \"))\n",
        "b = int(input(\"Masukkan bilangan kedua: \"))\n",
        "jumlah = 0\n",
        "for i in range(a, b + 1):\n",
        "  jumlah += i\n",
        "print(f\"Jumlah dari {a} sampai {b} adalah {jumlah}\")\n"
      ],
      "metadata": {
        "colab": {
          "base_uri": "https://localhost:8080/"
        },
        "id": "-LJEzMLaUO1V",
        "outputId": "1d56b892-3873-4350-aa49-4bc0a0f0739f"
      },
      "execution_count": null,
      "outputs": [
        {
          "output_type": "stream",
          "name": "stdout",
          "text": [
            "Masukkan bilangan pertama: 3\n",
            "Masukkan bilangan kedua: 10\n",
            "Jumlah dari 3 sampai 10 adalah 52\n"
          ]
        }
      ]
    },
    {
      "cell_type": "markdown",
      "source": [
        "**SOAL 6**"
      ],
      "metadata": {
        "id": "SYfpzMq_UKEl"
      }
    },
    {
      "cell_type": "code",
      "source": [
        "#mencari bilangan bulat dalam rentang tertentu\n",
        "a = int(input(\"Masukkan bilangan pertama: \"))\n",
        "b = int(input(\"Masukkan bilangan kedua: \"))\n",
        "print (f\"Bilangan genap antara {a} sampai {b} adalah: \")\n",
        "for i in range(a,b+1):\n",
        "  if i % 2 == 0:\n",
        "    print ((i), end=\" \")"
      ],
      "metadata": {
        "colab": {
          "base_uri": "https://localhost:8080/"
        },
        "id": "3Zw97-kOUQp8",
        "outputId": "14f9c63a-ab99-465b-b0ef-a910b7124e40"
      },
      "execution_count": null,
      "outputs": [
        {
          "output_type": "stream",
          "name": "stdout",
          "text": [
            "Masukkan bilangan pertama: 3\n",
            "Masukkan bilangan kedua: 10\n",
            "Bilangan genap antara 3 sampai 10 adalah: \n",
            "4 6 8 10 "
          ]
        }
      ]
    },
    {
      "cell_type": "markdown",
      "source": [
        "**SOAL 7**"
      ],
      "metadata": {
        "id": "1Rdn0UFcURnc"
      }
    },
    {
      "cell_type": "code",
      "source": [
        "#program mencetak nilai dari array dalam bentuk terbalik\n",
        "arr = [5, 2, 8, 1]\n",
        "terbalik = [0] * (len(arr))\n",
        "for i in range (len(arr)):\n",
        "  terbalik[len(arr) -1 -i] = arr[i]\n",
        "print(f\"Array asli: {arr}\")\n",
        "print (f\"Array Terbalik: {terbalik}\")"
      ],
      "metadata": {
        "colab": {
          "base_uri": "https://localhost:8080/"
        },
        "id": "HtKq2QqsUU6k",
        "outputId": "e0483674-4b70-41f0-c0bf-e2a5a69b7b39"
      },
      "execution_count": null,
      "outputs": [
        {
          "output_type": "stream",
          "name": "stdout",
          "text": [
            "Array asli: [5, 2, 8, 1]\n",
            "Array Terbalik: [1, 8, 2, 5]\n"
          ]
        }
      ]
    },
    {
      "cell_type": "markdown",
      "source": [
        "**SOAL 8**"
      ],
      "metadata": {
        "id": "b73XIRWaUVw0"
      }
    },
    {
      "cell_type": "code",
      "source": [
        "#menentukan  bilangan prima\n",
        "angka = int(input(\"Masukkan bilangan bulat: \"))\n",
        "prima = True\n",
        "if angka < 2:\n",
        "  prima = False\n",
        "else:\n",
        "  for i in range(2, angka):\n",
        "      if angka % i == 0:\n",
        "        prima = False\n",
        "        break\n",
        "if prima:\n",
        "  print(f\"{angka} adalah bilangan prima\")\n",
        "else:\n",
        "  print (f\"{angka} bukan bilangan prima\")"
      ],
      "metadata": {
        "colab": {
          "base_uri": "https://localhost:8080/"
        },
        "id": "67jNNF4ZUbYE",
        "outputId": "5f3215bc-6ade-40ff-8f21-7d1c83a552a7"
      },
      "execution_count": null,
      "outputs": [
        {
          "output_type": "stream",
          "name": "stdout",
          "text": [
            "Masukkan bilangan bulat: 13\n",
            "13 adalah bilangan prima\n"
          ]
        }
      ]
    }
  ]
}