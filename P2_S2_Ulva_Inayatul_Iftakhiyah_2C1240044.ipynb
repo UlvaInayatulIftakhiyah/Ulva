{
  "nbformat": 4,
  "nbformat_minor": 0,
  "metadata": {
    "colab": {
      "provenance": [],
      "authorship_tag": "ABX9TyOYi56Eirlh+cS+tCGf9OOh",
      "include_colab_link": true
    },
    "kernelspec": {
      "name": "python3",
      "display_name": "Python 3"
    },
    "language_info": {
      "name": "python"
    }
  },
  "cells": [
    {
      "cell_type": "markdown",
      "metadata": {
        "id": "view-in-github",
        "colab_type": "text"
      },
      "source": [
        "<a href=\"https://colab.research.google.com/github/UlvaInayatulIftakhiyah/Ulva/blob/main/P2_S2_Ulva_Inayatul_Iftakhiyah_2C1240044.ipynb\" target=\"_parent\"><img src=\"https://colab.research.google.com/assets/colab-badge.svg\" alt=\"Open In Colab\"/></a>"
      ]
    },
    {
      "cell_type": "markdown",
      "source": [
        "**SELEKSI KONDISI IF**"
      ],
      "metadata": {
        "id": "8ZOWnHvEVTOP"
      }
    },
    {
      "cell_type": "code",
      "source": [
        "nilai = 9\n",
        "#jika kondisi benar/TRUE maka program akan mengeksekusi perintah dibawahnya\n",
        "if(nilai > 7):\n",
        "    print(\"Sembilan Lebih Besar Dari Angka Tujuh\") # Kondisi Benar, Dieksekusi\n",
        "#jika kondisi salah/FALSE maka program tidak akan mengeksekusi perintah dibawahnya\n",
        "if(nilai > 10):\n",
        "    print(\"Sembilan Lebih Besar Dari Angka Sepuluh\") # Kondisi Salah, Maka tidak tereksekusi"
      ],
      "metadata": {
        "colab": {
          "base_uri": "https://localhost:8080/"
        },
        "id": "C7Li5HAbVoAe",
        "outputId": "83211d8c-d6be-4255-d97b-c4e443e2dd3d"
      },
      "execution_count": 2,
      "outputs": [
        {
          "output_type": "stream",
          "name": "stdout",
          "text": [
            "Sembilan Lebih Besar Dari Angka Tujuh\n"
          ]
        }
      ]
    },
    {
      "cell_type": "code",
      "source": [
        "grade = float(input(\"Masukkan Nilai Anda: \"))\n",
        "\n",
        "if grade == 100:\n",
        "    print(\"perfect\")\n",
        "\n",
        "if grade == 90:\n",
        "    print(\"ok\")\n",
        "    print(\"keep working hard!\")"
      ],
      "metadata": {
        "colab": {
          "base_uri": "https://localhost:8080/"
        },
        "id": "CfKFwEP7V3E0",
        "outputId": "9b7d4f84-e370-45b7-8960-c33d0cee8097"
      },
      "execution_count": 5,
      "outputs": [
        {
          "output_type": "stream",
          "name": "stdout",
          "text": [
            "Masukkan Nilai Anda: 100\n",
            "perfect\n"
          ]
        }
      ]
    },
    {
      "cell_type": "code",
      "source": [
        "grade = float(input(\"Masukkan Nilai Anda: \"))\n",
        "\n",
        "if grade == 100:\n",
        "    print(\"perfect\")\n",
        "\n",
        "if grade == 90:\n",
        "    print(\"ok\")\n",
        "    print(\"keep working hard!\")"
      ],
      "metadata": {
        "colab": {
          "base_uri": "https://localhost:8080/"
        },
        "id": "U1VqFI6WWCEd",
        "outputId": "d4123ecd-241e-4efc-dc12-e675af4285ba"
      },
      "execution_count": 6,
      "outputs": [
        {
          "output_type": "stream",
          "name": "stdout",
          "text": [
            "Masukkan Nilai Anda: 90\n",
            "ok\n",
            "keep working hard!\n"
          ]
        }
      ]
    },
    {
      "cell_type": "markdown",
      "source": [
        "**SELEKSI KONDISI IF-ELSE**"
      ],
      "metadata": {
        "id": "AY-ONJMmWKak"
      }
    },
    {
      "cell_type": "code",
      "source": [
        "# Kondisi if else adalah jika kondisi bernilai TRUE maka akan dieksekusi pada if,\n",
        "# tetapi jika bernilai FALSE maka akan dieksekusi kode pada else\n",
        "\n",
        "nilai = 8\n",
        "# Jika pernyataan pada if bernilai TRUE maka if akan dieksekusi,\n",
        "# tetapi jika FALSE kode pada else yang akan dieksekusi.\n",
        "if(nilai > 7):\n",
        "    print(\"Selamat Anda Lulus\")\n",
        "else:\n",
        "    print(\"Maaf Anda Tidak Lulus\")"
      ],
      "metadata": {
        "colab": {
          "base_uri": "https://localhost:8080/"
        },
        "id": "YOd9XxbXWJQ4",
        "outputId": "3c865fdc-b13d-483b-e94a-24dc668c9b01"
      },
      "execution_count": 8,
      "outputs": [
        {
          "output_type": "stream",
          "name": "stdout",
          "text": [
            "Selamat Anda Lulus\n"
          ]
        }
      ]
    },
    {
      "cell_type": "code",
      "source": [
        "str_input = input('Enter your grade: ')\n",
        "grade = int(str_input)\n",
        "\n",
        "if grade == 100:\n",
        "    print(\"perfect\")\n",
        "else:\n",
        "    print(\"keep it up\")"
      ],
      "metadata": {
        "colab": {
          "base_uri": "https://localhost:8080/"
        },
        "id": "8IBqVBs5WioT",
        "outputId": "288dd3b2-2689-405d-950d-cd883a143b84"
      },
      "execution_count": 9,
      "outputs": [
        {
          "output_type": "stream",
          "name": "stdout",
          "text": [
            "Enter your grade: 70\n",
            "keep it up\n"
          ]
        }
      ]
    },
    {
      "cell_type": "code",
      "source": [
        "Lapar = input(\"Apakah zaki lapar? \")\n",
        "if(\"lapar == ya\"):\n",
        "    print(\"Zaki makan\")\n",
        "else:\n",
        "    print(\"Zaki tidak makan\")"
      ],
      "metadata": {
        "colab": {
          "base_uri": "https://localhost:8080/"
        },
        "id": "VZMVK6inWni1",
        "outputId": "d8be156c-a79f-4da9-a859-b0cc7dcfbfcf"
      },
      "execution_count": 10,
      "outputs": [
        {
          "output_type": "stream",
          "name": "stdout",
          "text": [
            "Apakah zaki lapar? YA\n",
            "Zaki makan\n"
          ]
        }
      ]
    },
    {
      "cell_type": "markdown",
      "source": [
        "**SELEKSI KONDISI IF-ELIF-ELSE**"
      ],
      "metadata": {
        "id": "I0bL2809WsHG"
      }
    },
    {
      "cell_type": "code",
      "source": [
        "#Contoh penggunaan kondisi elif\n",
        "\n",
        "hari_ini = input(\"Masukkan hari(gunakan huruf kecil): \")\n",
        "\n",
        "if(hari_ini == \"senin\"):\n",
        "    print(\"Saya akan kuliah\")\n",
        "elif(hari_ini == \"selasa\"):\n",
        "    print(\"Saya akan kuliah\")\n",
        "elif(hari_ini == \"rabu\"):\n",
        "    print(\"Saya akan kuliah\")\n",
        "elif(hari_ini == \"kamis\"):\n",
        "    print(\"Saya akan kuliah\")\n",
        "elif(hari_ini == \"jumat\"):\n",
        "    print(\"Saya akan kuliah\")\n",
        "elif(hari_ini == \"sabtu\"):\n",
        "    print(\"Saya akan kuliah\")\n",
        "elif(hari_ini == \"minggu\"):\n",
        "    print(\"Saya akan libur\")"
      ],
      "metadata": {
        "colab": {
          "base_uri": "https://localhost:8080/"
        },
        "id": "vZc5u3ClWwsi",
        "outputId": "29ed4920-9462-4e6e-837d-e4e90aefefc8"
      },
      "execution_count": 12,
      "outputs": [
        {
          "output_type": "stream",
          "name": "stdout",
          "text": [
            "Masukkan hari(gunakan huruf kecil): selasa\n",
            "Saya akan kuliah\n"
          ]
        }
      ]
    },
    {
      "cell_type": "code",
      "source": [
        "str_input = input('Enter your grade: ')\n",
        "grade = int(str_input)\n",
        "\n",
        "if grade == 100:\n",
        "    print(\"perfect\")\n",
        "elif grade >= 85:\n",
        "    print(\"awesome\")\n",
        "elif grade >= 65:\n",
        "    print(\"passed the exam\")\n",
        "else:\n",
        "    print(\"below the passing grade\")"
      ],
      "metadata": {
        "colab": {
          "base_uri": "https://localhost:8080/"
        },
        "id": "aEi2VM-nW5z5",
        "outputId": "ac036930-1c86-40bb-e52a-646003c10411"
      },
      "execution_count": 14,
      "outputs": [
        {
          "output_type": "stream",
          "name": "stdout",
          "text": [
            "Enter your grade: 50\n",
            "below the passing grade\n"
          ]
        }
      ]
    },
    {
      "cell_type": "markdown",
      "source": [
        "**SELEKSI KONDISI BERCABANG/NESTED**"
      ],
      "metadata": {
        "id": "SRLZeeiuW_Hw"
      }
    },
    {
      "cell_type": "code",
      "source": [
        "str_input = input('Enter your grade: ')\n",
        "grade = int(str_input)\n",
        "\n",
        "if grade == 100:\n",
        "    print(\"perfect\")\n",
        "\n",
        "elif grade >= 85:\n",
        "    print(\"awesome\")\n",
        "\n",
        "elif grade >= 65:\n",
        "    print(\"passed the exam\")\n",
        "\n",
        "    if grade <= 70:\n",
        "        print(\"but you need to improve it!\")\n",
        "    else:\n",
        "        print(\"with ok grade\")\n",
        "\n",
        "else:\n",
        "    print(\"below the passing grade\")"
      ],
      "metadata": {
        "colab": {
          "base_uri": "https://localhost:8080/"
        },
        "id": "5F-VUfpVXEft",
        "outputId": "c3569d38-3fb0-425b-8e72-d57100d04e5f"
      },
      "execution_count": 15,
      "outputs": [
        {
          "output_type": "stream",
          "name": "stdout",
          "text": [
            "Enter your grade: 90\n",
            "awesome\n"
          ]
        }
      ]
    },
    {
      "cell_type": "markdown",
      "source": [
        "**SELEKSI KONDISI OPERASI LOGIKA**"
      ],
      "metadata": {
        "id": "YlnffJPmXRUT"
      }
    },
    {
      "cell_type": "code",
      "source": [
        "grade = int(input('Enter your current grade: '))\n",
        "prev_grade = int(input('Enter your previous grade: '))\n",
        "\n",
        "if grade >= 90 and prev_grade >= 65:\n",
        "    print(\"awesome\")\n",
        "if grade >= 90 and prev_grade < 65:\n",
        "    print(\"awesome. you definitely working hard, right?\")\n",
        "elif grade >= 65:\n",
        "   print(\"passed the exam\")\n",
        "else:\n",
        "    print(\"below the passing grade\")\n",
        "\n",
        "if (grade >= 65 and not prev_grade >= 65) or (not grade >= 65 and\n",
        "prev_grade >= 65):\n",
        "    print(\"at least you passed one exam. good job!\")"
      ],
      "metadata": {
        "colab": {
          "base_uri": "https://localhost:8080/"
        },
        "id": "dWJO7IdqXUs9",
        "outputId": "052beef3-b7a2-4502-be27-073a8939bd29"
      },
      "execution_count": 16,
      "outputs": [
        {
          "output_type": "stream",
          "name": "stdout",
          "text": [
            "Enter your current grade: 65\n",
            "Enter your previous grade: 70\n",
            "passed the exam\n"
          ]
        }
      ]
    },
    {
      "cell_type": "markdown",
      "source": [
        "**LATIHAN PRAKTIKUM 1**"
      ],
      "metadata": {
        "id": "HsFLZwNAXed_"
      }
    },
    {
      "cell_type": "code",
      "source": [
        "bilangan = int(input(\"Masukkan sebuah bilangan: \"))\n",
        "if bilangan % 3 == 0:\n",
        "  print(\"Bilangan habis dibagi 3\")\n",
        "else:\n",
        "  print(\"Bilangan tidak habis dibagi 3\")"
      ],
      "metadata": {
        "colab": {
          "base_uri": "https://localhost:8080/"
        },
        "id": "28UCKxebXjIJ",
        "outputId": "b4d23136-65d5-4757-8658-652369f74286"
      },
      "execution_count": 18,
      "outputs": [
        {
          "output_type": "stream",
          "name": "stdout",
          "text": [
            "Masukkan sebuah bilangan: 5\n",
            "Bilangan tidak habis dibagi 3\n"
          ]
        }
      ]
    },
    {
      "cell_type": "code",
      "source": [
        "nama = input(\"Masukkan nama anda: \")\n",
        "kelamin = input(\"masukkan jenis kelamin anda(pria/wanita): \")\n",
        "if kelamin == \"pria\":\n",
        "  print(\"Halo Bro\", nama)\n",
        "elif kelamin == \"wanita\":\n",
        "  print(\"Halo Sis\", nama)"
      ],
      "metadata": {
        "colab": {
          "base_uri": "https://localhost:8080/"
        },
        "id": "1cDHQOpkYE2O",
        "outputId": "6d3fb486-4c90-4d26-d8ab-958e4bd1e672"
      },
      "execution_count": 19,
      "outputs": [
        {
          "output_type": "stream",
          "name": "stdout",
          "text": [
            "Masukkan nama anda: ulva\n",
            "masukkan jenis kelamin anda(pria/wanita): wanita\n",
            "Halo Sis ulva\n"
          ]
        }
      ]
    },
    {
      "cell_type": "code",
      "source": [
        "tinggi_badan = (\"masukan tinggi badan anda \")\n",
        "tinggi_badan = int(input())\n",
        "if tinggi_badan < 150:\n",
        "  print(\"tinggi badan anda kurang \")\n",
        "elif tinggi_badan > 170:\n",
        "  print(\"tinggi badan anda ideal \")\n",
        "elif tinggi_badan > 185:\n",
        "  print(\"tinggi badan anda sangat tinggi\")\n",
        "else:\n",
        "  print(\"tinggi badan anda \")"
      ],
      "metadata": {
        "colab": {
          "base_uri": "https://localhost:8080/"
        },
        "id": "uiY9grCaZ2Lo",
        "outputId": "a850eef2-975b-4f43-e5d8-02a7eca7addc"
      },
      "execution_count": 25,
      "outputs": [
        {
          "output_type": "stream",
          "name": "stdout",
          "text": [
            "150\n",
            "tinggi badan anda \n"
          ]
        }
      ]
    },
    {
      "cell_type": "markdown",
      "source": [
        "**WHILE LOOP**"
      ],
      "metadata": {
        "id": "CkaMP4IWaFwg"
      }
    },
    {
      "cell_type": "code",
      "source": [
        "#Contoh penggunaan While Loop\n",
        "#Catatan: Penentuan ruang lingkup di Python bisa menggunakan tab alih-alih menggunakan tanda kurung\n",
        "count = 0\n",
        "while (count < 9):\n",
        "  print (\"The count is: \", count)\n",
        "  count = count + 1\n",
        "print (\"Good bye!\")"
      ],
      "metadata": {
        "colab": {
          "base_uri": "https://localhost:8080/"
        },
        "id": "4ghnW50YaTv0",
        "outputId": "f1e0962a-d892-4531-878e-c4455ecdb85c"
      },
      "execution_count": 28,
      "outputs": [
        {
          "output_type": "stream",
          "name": "stdout",
          "text": [
            "The count is:  0\n",
            "The count is:  1\n",
            "The count is:  2\n",
            "The count is:  3\n",
            "The count is:  4\n",
            "The count is:  5\n",
            "The count is:  6\n",
            "The count is:  7\n",
            "The count is:  8\n",
            "Good bye!\n"
          ]
        }
      ]
    },
    {
      "cell_type": "code",
      "source": [
        "a = 3\n",
        "# blok while akan dieksekusi\n",
        "# selama a > 0\n",
        "while a > 0:\n",
        "  print(\"a =\", a, \"> 0\")\n",
        "  a = a - 1\n",
        "  print(\"    a sekarang :\", a)"
      ],
      "metadata": {
        "colab": {
          "base_uri": "https://localhost:8080/"
        },
        "id": "py4UQl4Ear2v",
        "outputId": "902371c4-7385-4a8b-d75b-e03bc3dfa7ac"
      },
      "execution_count": 29,
      "outputs": [
        {
          "output_type": "stream",
          "name": "stdout",
          "text": [
            "a = 3 > 0\n",
            "    a sekarang : 2\n",
            "a = 2 > 0\n",
            "    a sekarang : 1\n",
            "a = 1 > 0\n",
            "    a sekarang : 0\n"
          ]
        }
      ]
    },
    {
      "cell_type": "code",
      "source": [
        "# contoh INFINITE LOOP\n",
        "# !!!hentikan program secara manual!!!\n",
        "# nilai b = 1 dan 1 > 0\n",
        "# karena nilai b tidak pernah berubah di dalam loop\n",
        "# maka kondisi akan selalu bernilai True\n",
        "b = 1\n",
        "# b akan selalu bernilai 1\n",
        "while b > 0:\n",
        "  print(\"infinite loop\")"
      ],
      "metadata": {
        "id": "x0RpQ_k3bBYu"
      },
      "execution_count": null,
      "outputs": []
    },
    {
      "cell_type": "code",
      "source": [
        "jawab = 'ya'\n",
        "hitung = 0\n",
        "while(jawab == 'ya'):\n",
        "  hitung += 1\n",
        "  jawab = input(\"Ulang lagi tidak? \")\n",
        "print(\"Total perulagan: \",hitung)"
      ],
      "metadata": {
        "colab": {
          "base_uri": "https://localhost:8080/"
        },
        "id": "4OY-vNg2cezx",
        "outputId": "6b4f0893-a081-49ef-95e3-1501af9ca35c"
      },
      "execution_count": 2,
      "outputs": [
        {
          "output_type": "stream",
          "name": "stdout",
          "text": [
            "Ulang lagi tidak? ya\n",
            "Ulang lagi tidak? ya\n",
            "Ulang lagi tidak? tidak\n",
            "Total perulagan:  3\n"
          ]
        }
      ]
    },
    {
      "cell_type": "markdown",
      "source": [
        "**FOR LOOP**"
      ],
      "metadata": {
        "id": "n8Ulc0-Kc_hy"
      }
    },
    {
      "cell_type": "code",
      "source": [
        "#Contoh pengulangan for sederhana\n",
        "angka = [1,2,3,4,5]\n",
        "for x in angka:\n",
        "  print(x)"
      ],
      "metadata": {
        "colab": {
          "base_uri": "https://localhost:8080/"
        },
        "id": "Th-xtKS9c-1R",
        "outputId": "78c68059-dedd-469c-fa9e-908e6fa91b82"
      },
      "execution_count": 4,
      "outputs": [
        {
          "output_type": "stream",
          "name": "stdout",
          "text": [
            "1\n",
            "2\n",
            "3\n",
            "4\n",
            "5\n"
          ]
        }
      ]
    },
    {
      "cell_type": "code",
      "source": [
        "#Contoh pengulangan for\n",
        "buah = [\"nanas\", \"apel\", \"jeruk\"]\n",
        "for makanan in buah:\n",
        "  print (\"Saya suka makan\", makanan)"
      ],
      "metadata": {
        "colab": {
          "base_uri": "https://localhost:8080/"
        },
        "id": "xoofcyvDdLYZ",
        "outputId": "b3ac7114-86bf-4119-975b-1c16b9b5fd81"
      },
      "execution_count": 5,
      "outputs": [
        {
          "output_type": "stream",
          "name": "stdout",
          "text": [
            "Saya suka makan nanas\n",
            "Saya suka makan apel\n",
            "Saya suka makan jeruk\n"
          ]
        }
      ]
    },
    {
      "cell_type": "code",
      "source": [
        "ulang = 10\n",
        "\n",
        "for i in range(ulang):\n",
        "    print(f\"Perulangan ke-{i}\")"
      ],
      "metadata": {
        "colab": {
          "base_uri": "https://localhost:8080/"
        },
        "id": "hl5Jj1djdRQN",
        "outputId": "f0663545-2137-4929-fa06-75f4866a5202"
      },
      "execution_count": 6,
      "outputs": [
        {
          "output_type": "stream",
          "name": "stdout",
          "text": [
            "Perulangan ke-0\n",
            "Perulangan ke-1\n",
            "Perulangan ke-2\n",
            "Perulangan ke-3\n",
            "Perulangan ke-4\n",
            "Perulangan ke-5\n",
            "Perulangan ke-6\n",
            "Perulangan ke-7\n",
            "Perulangan ke-8\n",
            "Perulangan ke-9\n"
          ]
        }
      ]
    },
    {
      "cell_type": "code",
      "source": [
        "# mencetak \"Pikachu\" sebanyak 5x\n",
        "for _ in range(5):\n",
        "    print(\"Pikachu\")"
      ],
      "metadata": {
        "colab": {
          "base_uri": "https://localhost:8080/"
        },
        "id": "OGFPj9rhdS8Q",
        "outputId": "ed769567-0e48-41dd-9c50-dc07ac3621df"
      },
      "execution_count": 7,
      "outputs": [
        {
          "output_type": "stream",
          "name": "stdout",
          "text": [
            "Pikachu\n",
            "Pikachu\n",
            "Pikachu\n",
            "Pikachu\n",
            "Pikachu\n"
          ]
        }
      ]
    },
    {
      "cell_type": "code",
      "source": [
        "# mencetak nilai kuadrat 1-10 dengan step=2\n",
        "for val in range(1, 10, 2):\n",
        "    val_kuadrat = val**2\n",
        "    print(f\"{val}^2 adalah {val_kuadrat}\")"
      ],
      "metadata": {
        "colab": {
          "base_uri": "https://localhost:8080/"
        },
        "id": "W7T0UrFMdXWS",
        "outputId": "3edcb8e9-8fac-43bf-fa00-676dfdfe60e8"
      },
      "execution_count": 8,
      "outputs": [
        {
          "output_type": "stream",
          "name": "stdout",
          "text": [
            "1^2 adalah 1\n",
            "3^2 adalah 9\n",
            "5^2 adalah 25\n",
            "7^2 adalah 49\n",
            "9^2 adalah 81\n"
          ]
        }
      ]
    },
    {
      "cell_type": "code",
      "source": [
        "# iterasi pada list\n",
        "skills = [\"Python\", \"R\", \"Julia\", \"Scala\"]\n",
        "for skill in skills:\n",
        "    print(\"Anda menguasai\", skill)\n",
        "print(\"-------------------------\")\n",
        "# iterasi pada list dengan menyertakan indeks (key)\n",
        "for idx, skill in enumerate(skills):\n",
        "    print(f\"Skill ke-{idx+1} : {skill}\")"
      ],
      "metadata": {
        "colab": {
          "base_uri": "https://localhost:8080/"
        },
        "id": "I6NNOwzvde0F",
        "outputId": "549320a2-da7d-483f-bf20-7783ea7e5a37"
      },
      "execution_count": 9,
      "outputs": [
        {
          "output_type": "stream",
          "name": "stdout",
          "text": [
            "Anda menguasai Python\n",
            "Anda menguasai R\n",
            "Anda menguasai Julia\n",
            "Anda menguasai Scala\n",
            "-------------------------\n",
            "Skill ke-1 : Python\n",
            "Skill ke-2 : R\n",
            "Skill ke-3 : Julia\n",
            "Skill ke-4 : Scala\n"
          ]
        }
      ]
    },
    {
      "cell_type": "markdown",
      "source": [
        "**NESTED LOOP**"
      ],
      "metadata": {
        "id": "9UdPd6zldjPJ"
      }
    },
    {
      "cell_type": "code",
      "source": [
        "# Program Python dengan Nested Loop\n",
        "# Input jumlah baris\n",
        "baris = int(input(\"Masukkan jumlah baris: \"))\n",
        "# Loop untuk membuat pola\n",
        "for i in range(1, baris + 1):\n",
        "  for j in range(1, i + 1):\n",
        "    print(\"*\", end=\" \")\n",
        "  print()  # Pindah ke baris berikutnya"
      ],
      "metadata": {
        "colab": {
          "base_uri": "https://localhost:8080/"
        },
        "id": "7f7fxRwqdmxy",
        "outputId": "b48f4476-2242-4dde-9f86-7f00744c2902"
      },
      "execution_count": 10,
      "outputs": [
        {
          "output_type": "stream",
          "name": "stdout",
          "text": [
            "Masukkan jumlah baris: 4\n",
            "* \n",
            "* * \n",
            "* * * \n",
            "* * * * \n"
          ]
        }
      ]
    },
    {
      "cell_type": "code",
      "source": [
        "#Menamai Pasangan Hewan\n",
        "hewan1 = [\"Kucing\", \"Kelinci\", \"Hamster\"]\n",
        "hewan2 = [\"Besar\", \"Kecil\"]\n",
        "print(\"Pasangan hewan:\")\n",
        "for h1 in hewan1:\n",
        "  for h2 in hewan2:\n",
        "    print(h1, h2)"
      ],
      "metadata": {
        "colab": {
          "base_uri": "https://localhost:8080/"
        },
        "id": "m3rr9lYnd0ux",
        "outputId": "8916b1c9-1039-4b15-92e8-ac7bed7d7116"
      },
      "execution_count": 12,
      "outputs": [
        {
          "output_type": "stream",
          "name": "stdout",
          "text": [
            "Pasangan hewan:\n",
            "Kucing Besar\n",
            "Kucing Kecil\n",
            "Kelinci Besar\n",
            "Kelinci Kecil\n",
            "Hamster Besar\n",
            "Hamster Kecil\n"
          ]
        }
      ]
    },
    {
      "cell_type": "code",
      "source": [
        "#Daftar Hari dan Waktu\n",
        "hari = [\"Senin\", \"Selasa\", \"Rabu\"]\n",
        "waktu = [\"Pagi\", \"Siang\", \"Malam\"]\n",
        "print(\"Jadwal hari dan waktu:\")\n",
        "for h in hari:\n",
        "  for w in waktu:\n",
        "    print(h, w)"
      ],
      "metadata": {
        "colab": {
          "base_uri": "https://localhost:8080/"
        },
        "id": "KWhd82_hd-u1",
        "outputId": "e5695fa7-ad8e-4e13-eb7d-517ada22a0ac"
      },
      "execution_count": 13,
      "outputs": [
        {
          "output_type": "stream",
          "name": "stdout",
          "text": [
            "Jadwal hari dan waktu:\n",
            "Senin Pagi\n",
            "Senin Siang\n",
            "Senin Malam\n",
            "Selasa Pagi\n",
            "Selasa Siang\n",
            "Selasa Malam\n",
            "Rabu Pagi\n",
            "Rabu Siang\n",
            "Rabu Malam\n"
          ]
        }
      ]
    },
    {
      "cell_type": "code",
      "source": [
        "#Permainan Tebak Angka\n",
        "angka_rahasia = [1, 3, 5]\n",
        "angka_tebakan = [2, 3, 4, 5]\n",
        "print(\"Hasil tebakan angka:\")\n",
        "for rahasia in angka_rahasia:\n",
        "  for tebakan in angka_tebakan:\n",
        "    if rahasia == tebakan:\n",
        "      print(f\"Benar! Angka {tebakan} cocok.\")\n",
        "    else:\n",
        "      print(f\"Angka {tebakan} salah.\")"
      ],
      "metadata": {
        "colab": {
          "base_uri": "https://localhost:8080/"
        },
        "id": "wXn4Jo3deHSe",
        "outputId": "c615e65b-8940-4a15-91a2-2fe18854c6e4"
      },
      "execution_count": 14,
      "outputs": [
        {
          "output_type": "stream",
          "name": "stdout",
          "text": [
            "Hasil tebakan angka:\n",
            "Angka 2 salah.\n",
            "Angka 3 salah.\n",
            "Angka 4 salah.\n",
            "Angka 5 salah.\n",
            "Angka 2 salah.\n",
            "Benar! Angka 3 cocok.\n",
            "Angka 4 salah.\n",
            "Angka 5 salah.\n",
            "Angka 2 salah.\n",
            "Angka 3 salah.\n",
            "Angka 4 salah.\n",
            "Benar! Angka 5 cocok.\n"
          ]
        }
      ]
    },
    {
      "cell_type": "markdown",
      "source": [
        "**ELSE, BREAK, CONTINUE**"
      ],
      "metadata": {
        "id": "EFbLNcFFeUmE"
      }
    },
    {
      "cell_type": "code",
      "source": [
        "# ============ WHILE DENGAN ELSE ============ #\n",
        "\n",
        "b = 1\n",
        "while b < 5:\n",
        "    print(\"b masih lebih kecil dari 5\")\n",
        "    b = b + 1\n",
        "else:\n",
        "    print(\"b sekarang sama dengan 5\")\n",
        "\n",
        "# break : menghentikan iterasi total\n",
        "\n",
        "print(\"\\n-------BREAK-----------\")\n",
        "\n",
        "skill = [\"Python\", \"R\", \"Julia\", \"Scala\"]     # data dalam bentuk list\n",
        "\n",
        "print(\"start loop\")\n",
        "for val in skill:\n",
        "    # jika val = \"Julia\" hentikan iterasi\n",
        "    if val == \"Julia\":\n",
        "        break\n",
        "\n",
        "    print(\"  Bahasa\", val)\n",
        "\n",
        "print(\"end loop\")\n",
        "\n",
        "# continue ; menghentikan iterasi saat ini\n",
        "# dan langsung melanjutkan iterasi berikutnya\n",
        "\n",
        "print(\"\\n------CONTINUE---------\")\n",
        "\n",
        "print(\"start loop\")\n",
        "a = 0\n",
        "while a < 5:\n",
        "  a = a + 1\n",
        "\n",
        "  # jika nilai a 2 atau 3 : continue\n",
        "  if a == 2 or a == 3:\n",
        "    continue\n",
        "\n",
        "  print(\"  nilai a =\", a)\n",
        "print(\"end loop\")"
      ],
      "metadata": {
        "colab": {
          "base_uri": "https://localhost:8080/"
        },
        "id": "QOUrpYbkeZMD",
        "outputId": "cdb01cf6-f965-4feb-fac8-1038248183a1"
      },
      "execution_count": 16,
      "outputs": [
        {
          "output_type": "stream",
          "name": "stdout",
          "text": [
            "b masih lebih kecil dari 5\n",
            "b masih lebih kecil dari 5\n",
            "b masih lebih kecil dari 5\n",
            "b masih lebih kecil dari 5\n",
            "b sekarang sama dengan 5\n",
            "\n",
            "-------BREAK-----------\n",
            "start loop\n",
            "  Bahasa Python\n",
            "  Bahasa R\n",
            "end loop\n",
            "\n",
            "------CONTINUE---------\n",
            "start loop\n",
            "  nilai a = 1\n",
            "  nilai a = 4\n",
            "  nilai a = 5\n",
            "end loop\n"
          ]
        }
      ]
    },
    {
      "cell_type": "markdown",
      "source": [
        "**LATIHAN PRAKTIKUM 2**"
      ],
      "metadata": {
        "id": "QMEU7V4ZfH79"
      }
    },
    {
      "cell_type": "code",
      "source": [
        "jumlah_barang = int(input(\"masukan jumlah barang yang dibeli: \"))\n",
        "total_belanja = 0\n",
        "for i in range(jumlah_barang):\n",
        "  print (f\"\\nbarang ke - {i+1} \")\n",
        "  harga_satuan = float(input(\"masukan harga satuan barang: \"))\n",
        "  jumlah_unit = int(input(\"masukan jumlah unit barang:\"))\n",
        "  total_harga = harga_satuan * jumlah_unit\n",
        "  total_belanja += total_harga\n",
        "  print(f\"\\ntotal belanja anda adalah: Rp{total_belanja:,.2f}\")"
      ],
      "metadata": {
        "colab": {
          "base_uri": "https://localhost:8080/"
        },
        "id": "NnwPJIpmfMJv",
        "outputId": "6af2d2f4-e619-4446-fffe-fd38ff76e1f4"
      },
      "execution_count": 18,
      "outputs": [
        {
          "output_type": "stream",
          "name": "stdout",
          "text": [
            "masukan jumlah barang yang dibeli: 2\n",
            "\n",
            "barang ke - 1 \n",
            "masukan harga satuan barang: 2000\n",
            "masukan jumlah unit barang:2\n",
            "\n",
            "total belanja anda adalah: Rp4,000.00\n",
            "\n",
            "barang ke - 2 \n",
            "masukan harga satuan barang: 2\n",
            "masukan jumlah unit barang:2000\n",
            "\n",
            "total belanja anda adalah: Rp8,000.00\n"
          ]
        }
      ]
    }
  ]
}