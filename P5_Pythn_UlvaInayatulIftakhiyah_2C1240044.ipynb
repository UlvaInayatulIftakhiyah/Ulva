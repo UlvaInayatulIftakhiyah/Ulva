{
  "nbformat": 4,
  "nbformat_minor": 0,
  "metadata": {
    "colab": {
      "provenance": [],
      "authorship_tag": "ABX9TyM7EopW1fHXhaKon2wmlzNt",
      "include_colab_link": true
    },
    "kernelspec": {
      "name": "python3",
      "display_name": "Python 3"
    },
    "language_info": {
      "name": "python"
    }
  },
  "cells": [
    {
      "cell_type": "markdown",
      "metadata": {
        "id": "view-in-github",
        "colab_type": "text"
      },
      "source": [
        "<a href=\"https://colab.research.google.com/github/UlvaInayatulIftakhiyah/Ulva/blob/main/P5_Pythn_UlvaInayatulIftakhiyah_2C1240044.ipynb\" target=\"_parent\"><img src=\"https://colab.research.google.com/assets/colab-badge.svg\" alt=\"Open In Colab\"/></a>"
      ]
    },
    {
      "cell_type": "code",
      "execution_count": null,
      "metadata": {
        "colab": {
          "base_uri": "https://localhost:8080/"
        },
        "id": "KqO2KNGeJaTY",
        "outputId": "dbb8e557-0610-4e3d-b490-37cb8a49da89"
      },
      "outputs": [
        {
          "output_type": "stream",
          "name": "stdout",
          "text": [
            "Hello, World!\n"
          ]
        }
      ],
      "source": [
        "#Program HelloWorld\n",
        "#Mencetak Hello, World! ke layar\n",
        "\n",
        "#KAMUS\n",
        "#belum diperlukan\n",
        "\n",
        "#ALGORITMA\n",
        "print('Hello, World!')"
      ]
    },
    {
      "cell_type": "code",
      "source": [
        "#proses memasukan data ke dalam variabel\n",
        "nama = \"John Doe\"\n",
        "#proses mencetak variabel\n",
        "print(nama)\n",
        "\n",
        "namaDepan = \"Budi\"\n",
        "namaBelakang = \"Susanto\"\n",
        "nama = namaDepan + \" \" + namaBelakang\n",
        "umur = 22\n",
        "hobi = \"Berenang\"\n",
        "print(\"Biodata\\n\", nama, \"\\n\", umur, \"\\n\", hobi)"
      ],
      "metadata": {
        "colab": {
          "base_uri": "https://localhost:8080/"
        },
        "id": "6eAaWI2DQw2m",
        "outputId": "45e92391-8029-4284-d3cc-32a41725e40d"
      },
      "execution_count": null,
      "outputs": [
        {
          "output_type": "stream",
          "name": "stdout",
          "text": [
            "John Doe\n",
            "Biodata\n",
            " Budi Susanto \n",
            " 22 \n",
            " Berenang\n"
          ]
        }
      ]
    },
    {
      "cell_type": "code",
      "source": [
        "#nilai dan tipe data dalam variabel dapat diubah\n",
        "umur = 20 #nilai awal\n",
        "print(umur) #mencetak nilai umur\n",
        "type(umur) #mengecek tipe data umur\n",
        "umur = \"dua puluh satu\" #nilai setelah diubah\n",
        "print(umur) #mencetak nilai umur\n",
        "type(umur) #mengecek tipe data umur"
      ],
      "metadata": {
        "colab": {
          "base_uri": "https://localhost:8080/"
        },
        "id": "hW5mmESlRaf1",
        "outputId": "24afa6b6-801a-482a-b310-f7de11612ebb"
      },
      "execution_count": null,
      "outputs": [
        {
          "output_type": "stream",
          "name": "stdout",
          "text": [
            "20\n",
            "dua puluh satu\n"
          ]
        },
        {
          "output_type": "execute_result",
          "data": {
            "text/plain": [
              "str"
            ]
          },
          "metadata": {},
          "execution_count": 3
        }
      ]
    },
    {
      "cell_type": "code",
      "source": [
        "#contoh variabel lainya\n",
        "inivariabel = \"Halo\"\n",
        "ini_juga_variabel = \"Hai\"\n",
        "_inivariabeljuga = \"Hi\"\n",
        "inivariabel222 = \"Bye\"\n",
        "\n",
        "panjang = 10\n",
        "lebar = 5\n",
        "luas = panjang * lebar\n",
        "print(luas)"
      ],
      "metadata": {
        "colab": {
          "base_uri": "https://localhost:8080/"
        },
        "id": "vOSehgehRmm1",
        "outputId": "17abc616-ee9a-443d-dbd4-fccf5dc0bfe2"
      },
      "execution_count": null,
      "outputs": [
        {
          "output_type": "stream",
          "name": "stdout",
          "text": [
            "50\n"
          ]
        }
      ]
    },
    {
      "cell_type": "code",
      "source": [
        "print(\"Hello, World!\") # (1)\n",
        "print(\"Ini program\", end=\"\") # (2)\n",
        "print(\" pertama saya\") # (3)\n",
        "print(\"Dengan\", \"Koma\")\n",
        "# Ini akan menghasilkan luaran \"Dengan Koma\"\n",
        "\n",
        "print(\"Dengan\" + \" Plus\")\n",
        "# Ini akan menghasilkan luaran \"DenganPlus\"\n",
        "# Perhatikan '+' pada print melakukan konkatenasi pada string saja.\n",
        "variabel = \" sebuah nilai\"\n",
        "print(f\"Dengan format {variabel}\")\n",
        "# Ini akan menghasilkan luaran \"Dengan format sebuah nilai\"\n",
        "# {variabel} akan diubah dengan nilai dari variabel bersesuaian.\n",
        "\n",
        "# Ini adalah sebuah komentar.\n",
        "# Semua yang ada setelah tanda pagar (#) akan diabaikan oleh interpreter"
      ],
      "metadata": {
        "colab": {
          "base_uri": "https://localhost:8080/"
        },
        "id": "3uwexZl2RtEU",
        "outputId": "a6fd4b34-1b9d-40c5-8516-e9c491fe7435"
      },
      "execution_count": null,
      "outputs": [
        {
          "output_type": "stream",
          "name": "stdout",
          "text": [
            "Hello, World!\n",
            "Ini program pertama saya\n",
            "Dengan Koma\n",
            "Dengan Plus\n",
            "Dengan format  sebuah nilai\n"
          ]
        }
      ]
    },
    {
      "cell_type": "code",
      "source": [
        "S = input(\"Masukkan kalimat: \") #(1)\n",
        "print(\"Anda memasuk kan kalimat: \" + S) #(2)\n",
        "N = int(input(\"Masukkan sebuah angka: \")) # (3)\n",
        "print(\"Jika angka Anda ditambah 5, hasilnya: \" + str(N + 5)) #(4)"
      ],
      "metadata": {
        "colab": {
          "base_uri": "https://localhost:8080/"
        },
        "id": "RgrIvq5pUTwU",
        "outputId": "56c7cbcd-a163-4296-a889-08e220d76318"
      },
      "execution_count": null,
      "outputs": [
        {
          "output_type": "stream",
          "name": "stdout",
          "text": [
            "Masukkan kalimat: aku prodi agribisnis\n",
            "Anda memasuk kan kalimat: aku prodi agribisnis\n",
            "Masukkan sebuah angka: 24\n",
            "Jika angka Anda ditambah 5, hasilnya: 29\n"
          ]
        }
      ]
    },
    {
      "cell_type": "code",
      "source": [
        "#contoh tipe data\n",
        "#tipe data Boolean\n",
        "print(True)\n",
        "\n",
        "#tipe data String\n",
        "print(\"Ayo belajar Python\")\n",
        "print('Belajar Python Sangat Mudah')\n",
        "\n",
        "#tipe data Integer\n",
        "print(20)\n",
        "\n",
        "#tipe data Float\n",
        "print(3.14)"
      ],
      "metadata": {
        "colab": {
          "base_uri": "https://localhost:8080/"
        },
        "id": "IfFXL5hWUYrF",
        "outputId": "b1035ad6-2866-4769-cdd8-432602c23c4d"
      },
      "execution_count": null,
      "outputs": [
        {
          "output_type": "stream",
          "name": "stdout",
          "text": [
            "True\n",
            "Ayo belajar Python\n",
            "Belajar Python Sangat Mudah\n",
            "20\n",
            "3.14\n"
          ]
        }
      ]
    },
    {
      "cell_type": "code",
      "source": [
        "#interger ke float\n",
        "x = float(5)\n",
        "print(x)\n",
        "\n",
        "#float ke integer\n",
        "x = int(5.6)\n",
        "print(x)\n",
        "\n",
        "#suatu nilai ke string\n",
        "x = str(9)\n",
        "print(x)\n",
        "\n",
        "#kumpulan data ke set, tuple, dan list\n",
        "X = set([1, 2, 3])\n",
        "y = tuple({5, 6, 7})\n",
        "z = list((\"hello\"))\n",
        "print(x)\n",
        "print(y)\n",
        "print(z)"
      ],
      "metadata": {
        "colab": {
          "base_uri": "https://localhost:8080/"
        },
        "id": "e6-W25LmUczE",
        "outputId": "f70c4335-4696-4c2a-ed2b-91f02e998851"
      },
      "execution_count": null,
      "outputs": [
        {
          "output_type": "stream",
          "name": "stdout",
          "text": [
            "5.0\n",
            "5\n",
            "9\n",
            "9\n",
            "(5, 6, 7)\n",
            "['h', 'e', 'l', 'l', 'o']\n"
          ]
        }
      ]
    },
    {
      "cell_type": "code",
      "source": [
        "x = 8\n",
        "y = 2\n",
        "result = x + y\n",
        "print(result)"
      ],
      "metadata": {
        "colab": {
          "base_uri": "https://localhost:8080/"
        },
        "id": "HKFFN800UknU",
        "outputId": "9d89fdb8-7a6f-472f-abb2-92aad4cdcc40"
      },
      "execution_count": null,
      "outputs": [
        {
          "output_type": "stream",
          "name": "stdout",
          "text": [
            "10\n"
          ]
        }
      ]
    },
    {
      "cell_type": "code",
      "source": [
        "# Penjumlahan\n",
        "print(13 + 2)\n",
        "apel = 7\n",
        "jeruk = 9\n",
        "buah = apel + jeruk  # Menjumlahkan jumlah apel dan jeruk\n",
        "print(f\"Jumlah buah: {buah}\")\n",
        "\n",
        "# Pengurangan\n",
        "hutang = 10000\n",
        "bayar = 5000\n",
        "sisa_hutang = hutang - bayar  # Menghitung sisa hutang\n",
        "print(f\"Sisa hutang Anda adalah {sisa_hutang}\")\n",
        "\n",
        "# Perkalian\n",
        "panjang = 15\n",
        "lebar = 8\n",
        "luas = panjang * lebar  # Menghitung luas persegi panjang\n",
        "print(f\"Luas persegi panjang: {luas}\")\n",
        "\n",
        "# Pembagian\n",
        "kue = 16\n",
        "anak = 4\n",
        "kue_per_anak = kue / anak  # Menghitung bagian kue per anak\n",
        "print(f\"Setiap anak akan mendapatkan bagian kue sebanyak {kue_per_anak}\")\n",
        "\n",
        "# Sisa Bagi / Modulus\n",
        "bilangan1 = 14\n",
        "bilangan2 = 5\n",
        "hasil = bilangan1 % bilangan2  # Menghitung sisa bagi\n",
        "print(f\"Sisa bagi dari bilangan {bilangan1} dan {bilangan2} adalah {hasil}\")\n",
        "\n",
        "# Pangkat\n",
        "bilangan3 = 8\n",
        "bilangan4 = 2\n",
        "hasil_pangkat = bilangan3 ** bilangan4  # Menghitung hasil pangkat print(f\"Hasil pangkat: {hasil_pangkat}\")\n",
        "\n",
        "# Pembagian Bulat\n",
        "print(10 // 3)\n",
        "# 10 dibagi 3 adalah 3.3333. Karena dibulatkan maka akan menghasilkan nilai 3"
      ],
      "metadata": {
        "colab": {
          "base_uri": "https://localhost:8080/"
        },
        "id": "YvYGZj1jVYgN",
        "outputId": "84bc6eb6-d75c-4716-a7e2-81ff69ee22b4"
      },
      "execution_count": null,
      "outputs": [
        {
          "output_type": "stream",
          "name": "stdout",
          "text": [
            "15\n",
            "Jumlah buah: 16\n",
            "Sisa hutang Anda adalah 5000\n",
            "Luas persegi panjang: 120\n",
            "Setiap anak akan mendapatkan bagian kue sebanyak 4.0\n",
            "Sisa bagi dari bilangan 14 dan 5 adalah 4\n",
            "3\n"
          ]
        }
      ]
    },
    {
      "cell_type": "code",
      "source": [
        "# SAMA DENGAN\n",
        "print(1 == 1) # Hasilnya akan bernilai True karena satu sama dengan satu\n",
        "print(1 == 2) # Hasilnya akan bernilai False karena satu tidak sama dengan dua"
      ],
      "metadata": {
        "colab": {
          "base_uri": "https://localhost:8080/"
        },
        "id": "MFZgG94cVe37",
        "outputId": "d0951a9a-a2a0-43b8-e0e9-fef16b069083"
      },
      "execution_count": null,
      "outputs": [
        {
          "output_type": "stream",
          "name": "stdout",
          "text": [
            "True\n",
            "False\n"
          ]
        }
      ]
    },
    {
      "cell_type": "code",
      "source": [
        "# TIDAK SAMA DENGAN\n",
        "print(2 != 2) # Hasilnya akan bernilai False karena dua seharusnya sama dengan dua\n",
        "print(2 != 3) # Hasilnya akan bernilai True karena dua tidak sama dengan tiga"
      ],
      "metadata": {
        "colab": {
          "base_uri": "https://localhost:8080/"
        },
        "id": "thoHUts1VjDd",
        "outputId": "b9de4fbe-7013-4689-af03-9d1cfb42738d"
      },
      "execution_count": null,
      "outputs": [
        {
          "output_type": "stream",
          "name": "stdout",
          "text": [
            "False\n",
            "True\n"
          ]
        }
      ]
    },
    {
      "cell_type": "code",
      "source": [
        "# LEBIH BESAR DARI\n",
        "print(5 > 3) # Hasilnya akan bernilai True karena lima lebih besar dari tiga\n",
        "\n",
        "# LEBIH KECIL DARI\n",
        "print(5 < 3) # Hasilnya akan bernilai False karena lima tidak lebih besar dari tiga\n",
        "\n",
        "# LEBIH BESAR DARI SAMA DENGAN\n",
        "print(5 >= 3) # Hasilnya akan bernilai True karena lima lebih besar dari sama dengan tiga\n",
        "\n",
        "# LEBIH KECIL DARI SAMA DENGAN\n",
        "print(5 <= 3) # Hasilnya akan bernilai False karena lima tidak lebih besar dari sama dengan tiga"
      ],
      "metadata": {
        "colab": {
          "base_uri": "https://localhost:8080/"
        },
        "id": "LWnoBWvbVmCL",
        "outputId": "9402da67-7c47-4eee-9034-6cbaab2d072a"
      },
      "execution_count": null,
      "outputs": [
        {
          "output_type": "stream",
          "name": "stdout",
          "text": [
            "True\n",
            "False\n",
            "True\n",
            "False\n"
          ]
        }
      ]
    },
    {
      "cell_type": "code",
      "source": [
        "# Penjumlahan\n",
        "print(13 + 2)\n",
        "apel = 7\n",
        "jeruk = 9 #ini adalah banyaknya jeruk\n",
        "buah = apel + jeruk  # Menjumlahkan jumlah apel dan jeruk\n",
        "print(f\"Jumlah buah: {buah}\")"
      ],
      "metadata": {
        "colab": {
          "base_uri": "https://localhost:8080/"
        },
        "id": "mgpSyZd1Vpkk",
        "outputId": "0ea6c631-4e43-4c23-c871-3d63d0e1f5ff"
      },
      "execution_count": null,
      "outputs": [
        {
          "output_type": "stream",
          "name": "stdout",
          "text": [
            "15\n",
            "Jumlah buah: 16\n"
          ]
        }
      ]
    },
    {
      "cell_type": "code",
      "source": [
        "# Hitung Luas Persegi\n",
        "panjang_sisi_persegi = 10\n",
        "luas = panjang_sisi_persegi * panjang_sisi_persegi   # Menghitung luas persegi\n",
        "print(f\"Luas persegi : {luas}\")"
      ],
      "metadata": {
        "colab": {
          "base_uri": "https://localhost:8080/"
        },
        "id": "EAUxo3J1VtyL",
        "outputId": "2fddacc5-efb1-4aad-feba-c6cd7229a93a"
      },
      "execution_count": null,
      "outputs": [
        {
          "output_type": "stream",
          "name": "stdout",
          "text": [
            "Luas persegi : 100\n"
          ]
        }
      ]
    },
    {
      "cell_type": "code",
      "source": [
        "#meminta data inputan nama,nim,fakultas,jurusan,kota,asal,dan alamat mahasiswa\n",
        "\n",
        "S = input(\"Nama: \") #(1)\n",
        "print(\"Anda memasuk kan kalimat: \" + S) #(2)\n",
        "T = input(\"NIM: \") #(3)\n",
        "print(\"Anda memasuk kan kalimat: \" + T) #(4)\n",
        "U = input(\"Fakultas: \") #(5)\n",
        "print(\"Anda memasuk kan kalimat: \" + U) #(6)\n",
        "V = input(\"Jurusan: \") #(7)\n",
        "print(\"Anda memasuk kan kalimat: \" + V) #(8)\n",
        "W = input(\"Kota: \") #(9)\n",
        "print(\"Anda memasuk kan kalimat: \" + W) #(10)\n",
        "X = input(\"Asal: \") #(11)\n",
        "print(\"Anda memasuk kan kalimat: \" + X) #(12)\n",
        "Y = input(\"Alamat Mahasiswa: \") #(13)\n",
        "print(\"Anda memasuk kan kalimat: \" + Y) #(14)"
      ],
      "metadata": {
        "colab": {
          "base_uri": "https://localhost:8080/"
        },
        "id": "dp4vDVYVXwj0",
        "outputId": "c7f6dcff-ad2d-44f0-99dd-8dbd76495a9d"
      },
      "execution_count": 1,
      "outputs": [
        {
          "output_type": "stream",
          "name": "stdout",
          "text": [
            "Nama: Ulva Inayatul Iftakhiyah\n",
            "Anda memasuk kan kalimat: Ulva Inayatul Iftakhiyah\n",
            "NIM: 2C1240044\n",
            "Anda memasuk kan kalimat: 2C1240044\n",
            "Fakultas: Sains dan Teknologi\n",
            "Anda memasuk kan kalimat: Sains dan Teknologi\n",
            "Jurusan: Agribisnis\n",
            "Anda memasuk kan kalimat: Agribisnis\n",
            "Kota: Sumedang\n",
            "Anda memasuk kan kalimat: Sumedang\n",
            "Asal: Riau\n",
            "Anda memasuk kan kalimat: Riau\n",
            "Alamat Mahasiswa: Jl. Kolonel Ahmad Syam No. 10 Jatinangor, Sumedang, Bandung, Jawa Timur Bandung \n",
            "Anda memasuk kan kalimat: Jl. Kolonel Ahmad Syam No. 10 Jatinangor, Sumedang, Bandung, Jawa Timur Bandung \n"
          ]
        }
      ]
    }
  ]
}