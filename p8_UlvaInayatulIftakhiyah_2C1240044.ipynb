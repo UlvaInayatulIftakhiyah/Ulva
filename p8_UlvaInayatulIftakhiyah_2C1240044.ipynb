{
  "nbformat": 4,
  "nbformat_minor": 0,
  "metadata": {
    "colab": {
      "provenance": [],
      "name": "p8_UlvaInayatulIftakhiyah_2C1240044.ipynb",
      "include_colab_link": true
    },
    "kernelspec": {
      "name": "python3",
      "display_name": "Python 3"
    },
    "language_info": {
      "name": "python"
    }
  },
  "cells": [
    {
      "cell_type": "markdown",
      "metadata": {
        "id": "view-in-github",
        "colab_type": "text"
      },
      "source": [
        "<a href=\"https://colab.research.google.com/github/UlvaInayatulIftakhiyah/Ulva/blob/main/p8_UlvaInayatulIftakhiyah_2C1240044.ipynb\" target=\"_parent\"><img src=\"https://colab.research.google.com/assets/colab-badge.svg\" alt=\"Open In Colab\"/></a>"
      ]
    },
    {
      "cell_type": "markdown",
      "source": [
        "**FUNDAMENTAL ARRAY**"
      ],
      "metadata": {
        "id": "wfgZxt5q_TzV"
      }
    },
    {
      "cell_type": "code",
      "execution_count": 1,
      "metadata": {
        "id": "9TB1ZwTr_DYz",
        "outputId": "26b4b8d3-1a1e-4fdf-8ed1-d1a8f978ef6c",
        "colab": {
          "base_uri": "https://localhost:8080/"
        }
      },
      "outputs": [
        {
          "output_type": "execute_result",
          "data": {
            "text/plain": [
              "[10, 20, 30, 40]"
            ]
          },
          "metadata": {},
          "execution_count": 1
        }
      ],
      "source": [
        "arr = [10, 20, 30, 40]\n",
        "arr"
      ]
    },
    {
      "cell_type": "code",
      "source": [
        "list_numbers = [1, 2, 3, 4, 5]\n",
        "list_numbers"
      ],
      "metadata": {
        "id": "Qye2YU0__OFZ",
        "outputId": "d7219657-832a-4b29-9763-bd400d88785e",
        "colab": {
          "base_uri": "https://localhost:8080/"
        }
      },
      "execution_count": 3,
      "outputs": [
        {
          "output_type": "execute_result",
          "data": {
            "text/plain": [
              "[1, 2, 3, 4, 5]"
            ]
          },
          "metadata": {},
          "execution_count": 3
        }
      ]
    },
    {
      "cell_type": "code",
      "source": [
        "list_numbers[0] = 100  # Mengubah elemen pertama menjadi 100\n",
        "list_numbers[0]"
      ],
      "metadata": {
        "id": "Fl3348wK_Rjh",
        "outputId": "f7bba7f1-3cea-4e6e-87f8-7c2356455d6b",
        "colab": {
          "base_uri": "https://localhost:8080/"
        }
      },
      "execution_count": 4,
      "outputs": [
        {
          "output_type": "execute_result",
          "data": {
            "text/plain": [
              "100"
            ]
          },
          "metadata": {},
          "execution_count": 4
        }
      ]
    },
    {
      "cell_type": "markdown",
      "source": [
        "**MENDEKLARASIKAN ARRAY**"
      ],
      "metadata": {
        "id": "vu07k-Tj_cp9"
      }
    },
    {
      "cell_type": "code",
      "source": [
        "arr = [1, 2, 3, 4, 5]\n",
        "arr"
      ],
      "metadata": {
        "id": "Z7JTYURvCO49",
        "outputId": "5656a670-cf20-4d9b-fdc1-12a2f3e5c7d9",
        "colab": {
          "base_uri": "https://localhost:8080/"
        }
      },
      "execution_count": 5,
      "outputs": [
        {
          "output_type": "execute_result",
          "data": {
            "text/plain": [
              "[1, 2, 3, 4, 5]"
            ]
          },
          "metadata": {},
          "execution_count": 5
        }
      ]
    },
    {
      "cell_type": "code",
      "source": [
        "data = [1, 2, 3, 'hello', 5.5]  # array dengan elemen tipe berbeda\n",
        "data"
      ],
      "metadata": {
        "id": "OKBRVSaA_f6u",
        "outputId": "98fc31f4-3443-4bee-e4e5-1b6401af18fc",
        "colab": {
          "base_uri": "https://localhost:8080/"
        }
      },
      "execution_count": 7,
      "outputs": [
        {
          "output_type": "execute_result",
          "data": {
            "text/plain": [
              "[1, 2, 3, 'hello', 5.5]"
            ]
          },
          "metadata": {},
          "execution_count": 7
        }
      ]
    },
    {
      "cell_type": "code",
      "source": [
        "arr = [0] * 5  # Membuat array dengan 5 elemen, semua berisi 0\n",
        "arr"
      ],
      "metadata": {
        "id": "2b5ZTBRJ_isp",
        "outputId": "770d1651-4eb0-4d9d-f014-db6a7fdb616a",
        "colab": {
          "base_uri": "https://localhost:8080/"
        }
      },
      "execution_count": 8,
      "outputs": [
        {
          "output_type": "execute_result",
          "data": {
            "text/plain": [
              "[0, 0, 0, 0, 0]"
            ]
          },
          "metadata": {},
          "execution_count": 8
        }
      ]
    },
    {
      "cell_type": "code",
      "source": [
        "arr = [10, 20, 30, 40]\n",
        "print(arr[0])  # Output: 10 (indeks pertama)\n",
        "print(arr[3])  # Output: 40 (indeks terakhir)"
      ],
      "metadata": {
        "colab": {
          "base_uri": "https://localhost:8080/"
        },
        "id": "GHWtWUHi_knC",
        "outputId": "f37bca97-2a0e-4912-8564-02df62fd6442"
      },
      "execution_count": 9,
      "outputs": [
        {
          "output_type": "stream",
          "name": "stdout",
          "text": [
            "10\n",
            "40\n"
          ]
        }
      ]
    },
    {
      "cell_type": "markdown",
      "source": [
        "**PEMROSESAN SEKUENSIAL ARRAY**"
      ],
      "metadata": {
        "id": "fQEuwUc3_mrE"
      }
    },
    {
      "cell_type": "code",
      "source": [
        "arr = [10, 20, 30, 40, 50]\n",
        "for elemen in arr:\n",
        "    print(elemen)\n"
      ],
      "metadata": {
        "colab": {
          "base_uri": "https://localhost:8080/"
        },
        "id": "7ZE8ZrrE_qmV",
        "outputId": "b5093213-3273-445d-ff08-3c3005558e96"
      },
      "execution_count": null,
      "outputs": [
        {
          "output_type": "stream",
          "name": "stdout",
          "text": [
            "10\n",
            "20\n",
            "30\n",
            "40\n",
            "50\n"
          ]
        }
      ]
    },
    {
      "cell_type": "code",
      "source": [
        "total = 0\n",
        "for elemen in arr:\n",
        "    total += elemen\n",
        "print(total)  # Output: 150\n"
      ],
      "metadata": {
        "colab": {
          "base_uri": "https://localhost:8080/"
        },
        "id": "sWK3Hdb9_tzN",
        "outputId": "293b7916-7953-489c-93b8-37a8a1172900"
      },
      "execution_count": null,
      "outputs": [
        {
          "output_type": "stream",
          "name": "stdout",
          "text": [
            "150\n"
          ]
        }
      ]
    },
    {
      "cell_type": "markdown",
      "source": [
        "**TUGAS**"
      ],
      "metadata": {
        "id": "1sePslYHWqDb"
      }
    },
    {
      "cell_type": "code",
      "source": [
        "arr = [1, 3, 2, 5, 4,]\n",
        "\n",
        "maksimum = arr[0]\n",
        "for i in range (1,len(arr)):\n",
        "  if arr[i] > maksimum:\n",
        "    maksimum = arr[i]\n",
        "print(\"nilai maksimum:\", maksimum)\n",
        "\n",
        "minimum = arr[0]\n",
        "for i in range (1,len(arr)):\n",
        "  if arr[i] < minimum:\n",
        "    minimum = arr[i]\n",
        "print(\"nilai minimum:\", minimum)\n",
        "\n",
        "total = 0\n",
        "for elemen in arr:\n",
        "  total += elemen\n",
        "print(\"total:\", total)\n",
        "\n",
        "jumlah_elemen = len(arr)\n",
        "print(\"jumlah elemen:\", jumlah_elemen)\n",
        "\n",
        "rataRata = total/jumlah_elemen\n",
        "print(\"rataRata:\", rataRata)"
      ],
      "metadata": {
        "id": "Izc5fyvXW5uc",
        "outputId": "8956c9e2-c55f-4fdb-e78c-4e3586c05bb5",
        "colab": {
          "base_uri": "https://localhost:8080/"
        }
      },
      "execution_count": 27,
      "outputs": [
        {
          "output_type": "stream",
          "name": "stdout",
          "text": [
            "nilai maksimum: 5\n",
            "nilai minimum: 1\n",
            "total: 15\n",
            "jumlah elemen: 5\n",
            "rataRata: 3.0\n"
          ]
        }
      ]
    },
    {
      "cell_type": "code",
      "source": [
        "arr = [9, 3, 4, 20, 26, 50, 30, 23, 26, 7, 66, 70, 27, 1, 12]\n",
        "\n",
        "nilai_maksimum = max(arr)\n",
        "print(nilai_maksimum)\n",
        "\n",
        "nilai_minimum = min(arr)\n",
        "print(nilai_minimum)\n",
        "\n",
        "penjumlahan = sum(arr)\n",
        "print(penjumlahan)\n",
        "\n",
        "jumlah_elemen = len (arr)\n",
        "print(jumlah_elemen)\n",
        "\n",
        "rataRata = penjumlahan/jumlah_elemen\n",
        "print(rataRata)"
      ],
      "metadata": {
        "id": "0zs50qqqe7va",
        "outputId": "8bfe5d30-6009-4a80-8a75-67a72fa272b4",
        "colab": {
          "base_uri": "https://localhost:8080/"
        }
      },
      "execution_count": 20,
      "outputs": [
        {
          "output_type": "stream",
          "name": "stdout",
          "text": [
            "70\n",
            "1\n",
            "374\n",
            "15\n",
            "24.933333333333334\n"
          ]
        }
      ]
    }
  ]
}