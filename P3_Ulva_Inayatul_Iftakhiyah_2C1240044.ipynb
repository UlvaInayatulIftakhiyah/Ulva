{
  "nbformat": 4,
  "nbformat_minor": 0,
  "metadata": {
    "colab": {
      "provenance": [],
      "authorship_tag": "ABX9TyNQ3c7CsAM/vg3ZusL+vh/r",
      "include_colab_link": true
    },
    "kernelspec": {
      "name": "python3",
      "display_name": "Python 3"
    },
    "language_info": {
      "name": "python"
    }
  },
  "cells": [
    {
      "cell_type": "markdown",
      "metadata": {
        "id": "view-in-github",
        "colab_type": "text"
      },
      "source": [
        "<a href=\"https://colab.research.google.com/github/UlvaInayatulIftakhiyah/Ulva/blob/main/P3_Ulva_Inayatul_Iftakhiyah_2C1240044.ipynb\" target=\"_parent\"><img src=\"https://colab.research.google.com/assets/colab-badge.svg\" alt=\"Open In Colab\"/></a>"
      ]
    },
    {
      "cell_type": "markdown",
      "source": [
        "**ARRAY**"
      ],
      "metadata": {
        "id": "svKrZ-La2F6i"
      }
    },
    {
      "cell_type": "code",
      "execution_count": 1,
      "metadata": {
        "colab": {
          "base_uri": "https://localhost:8080/"
        },
        "id": "GFb80RB1rO1e",
        "outputId": "b5f48064-fd8a-47bd-df19-adad2b956d93"
      },
      "outputs": [
        {
          "output_type": "stream",
          "name": "stdout",
          "text": [
            "7\n"
          ]
        }
      ],
      "source": [
        "NumbInt = [9,8,7,6,5,4,3,2,1,0]\n",
        "print(NumbInt[2])"
      ]
    },
    {
      "cell_type": "code",
      "source": [
        "x = [0 for i in range (10)]\n",
        "\n",
        "print(x[7])"
      ],
      "metadata": {
        "colab": {
          "base_uri": "https://localhost:8080/"
        },
        "id": "MCWE1GCAtzjr",
        "outputId": "32cd91aa-6bcd-4602-d5fb-0c586ec67ae7"
      },
      "execution_count": 23,
      "outputs": [
        {
          "output_type": "stream",
          "name": "stdout",
          "text": [
            "0\n"
          ]
        }
      ]
    },
    {
      "cell_type": "code",
      "source": [
        "# Program IsiArray\n",
        "# Mengisi array dengan nilai dari pengguna\n",
        "# KAMUS\n",
        "# TabInt : array [0..9] of int\n",
        "# i: int\n",
        "# ALGORITMA\n",
        "# Deklarasi array NumbInt dan mengisinya dengan nilai default 0\n",
        "NumbInt = [0 for i in range(10)]\n",
        "# Mengisi array dari pembacaan nilai dari keyboard\n",
        "for i in range(0,10): NumbInt[i] = int(input())"
      ],
      "metadata": {
        "colab": {
          "base_uri": "https://localhost:8080/"
        },
        "id": "EaXMalrKxB_z",
        "outputId": "1475bc65-a00e-4d54-87c6-b4a48953f75a"
      },
      "execution_count": 42,
      "outputs": [
        {
          "name": "stdout",
          "output_type": "stream",
          "text": [
            "10\n",
            "9\n",
            "8\n",
            "7\n",
            "6\n",
            "5\n",
            "4\n",
            "3\n",
            "2\n",
            "1\n"
          ]
        }
      ]
    },
    {
      "cell_type": "code",
      "source": [
        "# Program AverageArray\n",
        "# Menghitung nilai rata-rata elemen array\n",
        "# KAMUS\n",
        "# TabInt : array [0..9] of int\n",
        "# i : int\n",
        "# sum : int\n",
        "# ALGORITMA\n",
        "# Deklarasi array TabInt dan mengisinya dengan nilai default 0\n",
        "NumbInt = [0 for i in range(10)]\n",
        "# Mengisi array dari pembacaan nilai dari keyboard\n",
        "for i in range(0,10):\n",
        "  NumbInt[i] = int(input())\n",
        "# Menjumlahkan elemen array\n",
        "sum = 0\n",
        "for i in range(0,10):\n",
        "  sum = sum + NumbInt[i]\n",
        "# Menghitung nilai rata-rata dan menampilkannya\n",
        "rata = sum/10\n",
        "print (\"Nilai rata-rata = \" + str(rata))"
      ],
      "metadata": {
        "colab": {
          "base_uri": "https://localhost:8080/"
        },
        "id": "bVmU-H0zxFUT",
        "outputId": "e0bfb50a-2e97-4e9a-f1c3-c016e884fc69"
      },
      "execution_count": 41,
      "outputs": [
        {
          "output_type": "stream",
          "name": "stdout",
          "text": [
            "1\n",
            "2\n",
            "3\n",
            "4\n",
            "5\n",
            "6\n",
            "7\n",
            "8\n",
            "9\n",
            "10\n",
            "Nilai rata-rata = 5.5\n"
          ]
        }
      ]
    },
    {
      "cell_type": "code",
      "source": [
        "# Program: Perkalian Array dan Mencari Nilai Ekstrem\n",
        "# 1. Inisialisasi array S\n",
        "S = [4, 1, -1, 10, 0, 12]\n",
        "# 2. Input nilai D dari pengguna\n",
        "D = int(input(\"Masukkan nilai D (pengali): \"))\n",
        "# 3. Kalikan setiap elemen S dengan D\n",
        "S = [elemen * D for elemen in S]\n",
        "# 4. Tampilkan hasil array setelah dikalikan\n",
        "print(\"Array S setelah dikalikan dengan D:\")\n",
        "print(S)\n",
        "# 5. Cari nilai maksimum dan minimum\n",
        "maks = max(S)\n",
        "minim = min(S)\n",
        "# 6. Tampilkan nilai maksimum dan minimum\n",
        "print(\"Nilai terbesar dalam array:\", maks)\n",
        "print(\"Nilai terkecil dalam array:\", minim)"
      ],
      "metadata": {
        "colab": {
          "base_uri": "https://localhost:8080/"
        },
        "id": "5hDGf7-SvIty",
        "outputId": "37660f3e-8b78-4b30-8e20-5fda87ace096"
      },
      "execution_count": 16,
      "outputs": [
        {
          "output_type": "stream",
          "name": "stdout",
          "text": [
            "Masukkan nilai D (pengali): 3\n",
            "Array S setelah dikalikan dengan D:\n",
            "[12, 3, -3, 30, 0, 36]\n",
            "Nilai terbesar dalam array: 36\n",
            "Nilai terkecil dalam array: -3\n"
          ]
        }
      ]
    },
    {
      "cell_type": "markdown",
      "source": [
        "**LATIHAN ARRAY**"
      ],
      "metadata": {
        "id": "uGwdeYogzKp6"
      }
    },
    {
      "cell_type": "code",
      "source": [
        "S = [5, 4, 3, 2, 1, 0]\n",
        "\n",
        "D = int(input(\"Masukkan nilai D (pengali): \"))\n",
        "S = [elemen * D for elemen in S]\n",
        "\n",
        "print(\"Array S setelah dikalikan dengan D: \")\n",
        "print(S)\n",
        "\n",
        "maks = max(S)\n",
        "minim = min(S)\n",
        "\n",
        "print(\"Nilai terbesar dalam array: \", maks)\n",
        "print(\"Nilai terkecil dalam array: \", minim)"
      ],
      "metadata": {
        "colab": {
          "base_uri": "https://localhost:8080/"
        },
        "id": "AMDJH9NEzJdD",
        "outputId": "81d65729-4ee8-4b3e-896a-07425a57fc3a"
      },
      "execution_count": 40,
      "outputs": [
        {
          "output_type": "stream",
          "name": "stdout",
          "text": [
            "Masukkan nilai D (pengali): 2\n",
            "Array S setelah dikalikan dengan D: \n",
            "[10, 8, 6, 4, 2, 0]\n",
            "Nilai terbesar dalam array:  10\n",
            "Nilai terkecil dalam array:  0\n"
          ]
        }
      ]
    },
    {
      "cell_type": "markdown",
      "source": [
        "**MATRIKS**"
      ],
      "metadata": {
        "id": "O80L8Yzr2CUJ"
      }
    },
    {
      "cell_type": "code",
      "source": [
        "MatSatuan = [[1, 2, 3, 4,  5],\n",
        "            [6, 7, 8, 9, 10],\n",
        "            [11, 12, 13, 14, 15],\n",
        "            [16, 17, 18, 19, 20 ],\n",
        "            [21, 22, 23, 24, 25]]\n",
        "\n",
        "print(MatSatuan[2][3])"
      ],
      "metadata": {
        "colab": {
          "base_uri": "https://localhost:8080/"
        },
        "id": "Fzkw2g5J4aGx",
        "outputId": "7b5191dd-53bd-4198-a559-08dfc2def253"
      },
      "execution_count": 50,
      "outputs": [
        {
          "output_type": "stream",
          "name": "stdout",
          "text": [
            "14\n"
          ]
        }
      ]
    },
    {
      "cell_type": "code",
      "source": [
        "MatSatuan = [[1, 2, 3, 4,  5],\n",
        "            [6, 7, 8, 9, 10],\n",
        "            [11, 12, 13, 14, 15],\n",
        "            [16, 17, 18, 19, 20 ],\n",
        "            [21, 22, 23, 24, 25]]\n",
        "\n",
        "print(MatSatuan)"
      ],
      "metadata": {
        "colab": {
          "base_uri": "https://localhost:8080/"
        },
        "id": "3NT7oOjH5jVZ",
        "outputId": "fa908205-c069-453e-ba53-0d61ec3a5193"
      },
      "execution_count": 62,
      "outputs": [
        {
          "output_type": "stream",
          "name": "stdout",
          "text": [
            "[[1, 2, 3, 4, 5], [6, 7, 8, 9, 10], [11, 12, 13, 14, 15], [16, 17, 18, 19, 20], [21, 22, 23, 24, 25]]\n"
          ]
        }
      ]
    },
    {
      "cell_type": "code",
      "source": [
        "MatM = [[1, 2, 3, 4,  5],\n",
        "        [6, 7, 8, 9, 10],\n",
        "        [11, 12, 13, 14, 15],\n",
        "        [16, 17, 18, 19, 20 ],\n",
        "        [21, 22, 23, 24, 25]]\n",
        "\n",
        "for j in range (len(MatM)):                     #j untuk kolom # untuk kolom di dalam jangka sepanjang matrix M\n",
        "  for i in range (len(MatM)):                   # i untuk baris # # untuk baris di dalam jangka sepanjang matrix M\n",
        "    print(MatM[j][i], end= \" \")\n",
        "  print()"
      ],
      "metadata": {
        "colab": {
          "base_uri": "https://localhost:8080/"
        },
        "id": "TlTevgYq6FUR",
        "outputId": "580f9f84-8f6b-431f-f998-d5b75d917567"
      },
      "execution_count": 59,
      "outputs": [
        {
          "output_type": "stream",
          "name": "stdout",
          "text": [
            "1 2 3 4 5 \n",
            "6 7 8 9 10 \n",
            "11 12 13 14 15 \n",
            "16 17 18 19 20 \n",
            "21 22 23 24 25 \n"
          ]
        }
      ]
    },
    {
      "cell_type": "code",
      "source": [
        "for j in range (5): #j untuk kolom # untuk kolom di dalam jangka sepanjang matrix M\n",
        "  for i in range (3): # i untuk baris # # untuk baris di dalam jangka sepanjang matrix M\n",
        "    print(MatM[j][i], end= \" \")\n",
        "  print()"
      ],
      "metadata": {
        "colab": {
          "base_uri": "https://localhost:8080/"
        },
        "id": "seYlrHK-8l84",
        "outputId": "460a1c8d-7fae-4bd0-f82b-896f5329e575"
      },
      "execution_count": 65,
      "outputs": [
        {
          "output_type": "stream",
          "name": "stdout",
          "text": [
            "1 2 3 \n",
            "6 7 8 \n",
            "11 12 13 \n",
            "16 17 18 \n",
            "21 22 23 \n"
          ]
        }
      ]
    },
    {
      "cell_type": "code",
      "source": [
        "MatM = [0 for j in range (2)] for i in range (3)"
      ],
      "metadata": {
        "colab": {
          "base_uri": "https://localhost:8080/",
          "height": 106
        },
        "id": "IwVPmteo7CqA",
        "outputId": "9ab34347-7453-4879-b278-d81fdb93b4aa"
      },
      "execution_count": 64,
      "outputs": [
        {
          "output_type": "error",
          "ename": "SyntaxError",
          "evalue": "invalid syntax (<ipython-input-64-a376d133abc1>, line 7)",
          "traceback": [
            "\u001b[0;36m  File \u001b[0;32m\"<ipython-input-64-a376d133abc1>\"\u001b[0;36m, line \u001b[0;32m7\u001b[0m\n\u001b[0;31m    MatM = [0 for j in range (2)] for i in range (3)\u001b[0m\n\u001b[0m                                  ^\u001b[0m\n\u001b[0;31mSyntaxError\u001b[0m\u001b[0;31m:\u001b[0m invalid syntax\n"
          ]
        }
      ]
    },
    {
      "cell_type": "code",
      "source": [
        "# Program IsiMatriks;\n",
        "# Isi matriks dan menulis ke layar\n",
        "# KAMUS\n",
        "# M : matriks of integer\n",
        "# NBrs, NKol : int (ukuran brs & kol)\n",
        "# i, j : int (indeks)\n",
        "# ALGORITMA\n",
        "# deklarasi matriks\n",
        "NBrs = 5; NKol = 5;\n",
        "M = [[0 for j in range(NKol)] for i in range(NBrs)]\n",
        "# Mengisi matriks ukuran NBrsxNKol\n",
        "for i in range (NBrs):\n",
        "  for j in range (NKol):\n",
        "    M[i][j] = i * j\n",
        "# Menuliskan isi matriks ke layar\n",
        "for i in range (NBrs):\n",
        "  for j in range (NKol):\n",
        "    print(str(M[i][j])+\" \", end='') # print tanpa enter\n",
        "print() # print hanya enter"
      ],
      "metadata": {
        "colab": {
          "base_uri": "https://localhost:8080/"
        },
        "id": "jIqyMAgrwJ3D",
        "outputId": "8c9e2cd9-9218-48a6-f634-affbdf8c52ec"
      },
      "execution_count": 31,
      "outputs": [
        {
          "output_type": "stream",
          "name": "stdout",
          "text": [
            "0 0 0 0 0 0 1 2 3 4 0 2 4 6 8 0 3 6 9 12 0 4 8 12 16 \n"
          ]
        }
      ]
    },
    {
      "cell_type": "code",
      "source": [
        "# Program BacaMatriks;\n",
        "# Baca isi matriks dari pengguna dan menulis ke layar\n",
        "# KAMUS\n",
        "# M : matriks of integer\n",
        "# NBrs, NKol : int (ukuran brs & kol)\n",
        "# i, j : int (indeks)\n",
        "# ALGORITMA\n",
        "# deklarasi matriks\n",
        "NBrs = 5; NKol = 5;\n",
        "M = [[0 for j in range(NKol)] for i in range(NBrs)]\n",
        "# Mengisi matriks ukuran NBrsxNKol\n",
        "for i in range (NBrs):\n",
        "  for j in range (NKol):\n",
        "    M[i][j] = int(input(\"Elemen ke-[\"+str(i)+\",\"+str(j)+\"] = \"))\n",
        "# Menuliskan isi matriks ke layar\n",
        "for i in range (NBrs):\n",
        "  for j in range (NKol):\n",
        "    print(str(M[i][j])+\" \", end='') # print tanpa enter\n",
        "print() # print hanya enter"
      ],
      "metadata": {
        "id": "mYHdj448xuZT"
      },
      "execution_count": null,
      "outputs": []
    },
    {
      "cell_type": "code",
      "source": [
        "# Program untuk membaca matriks dan mengalikan setiap elemennya dengan X\n",
        "# Membaca ukuran matriks\n",
        "baris = int(input(\"Masukkan jumlah baris: \"))\n",
        "kolom = int(input(\"Masukkan jumlah kolom: \"))\n",
        "# Membaca elemen-elemen matriks\n",
        "print(\"Masukkan elemen-elemen matriks:\")\n",
        "matriks = []\n",
        "for i in range(baris):\n",
        " baris_matriks = []\n",
        " for j in range(kolom):\n",
        "  elemen = int(input(f\"Elemen [{i}][{j}]: \"))\n",
        " baris_matriks.append(elemen)\n",
        " matriks.append(baris_matriks)\n",
        "# Membaca nilai X\n",
        "X = int(input(\"Masukkan nilai X untuk mengalikan semua elemen matriks: \"))\n",
        "# Mengalikan setiap elemen matriks dengan X\n",
        "hasil = []\n",
        "for i in range(baris):\n",
        " hasil_baris = []\n",
        " for j in range(kolom):\n",
        "  hasil_baris.append(matriks[i][j] * X)\n",
        " hasil.append(hasil_baris)\n",
        "# Menampilkan hasil matriks\n",
        "print(\"\\nMatriks setelah dikalikan dengan\", X, \":\")\n",
        "for baris in hasil:\n",
        " print(baris)"
      ],
      "metadata": {
        "id": "b-hcBhM7yCni"
      },
      "execution_count": null,
      "outputs": []
    },
    {
      "cell_type": "code",
      "source": [
        "# Program untuk membuat transpose dari sebuah matriks\n",
        "# Input ukuran matriks\n",
        "baris = int(input(\"Masukkan jumlah baris matriks M: \"))\n",
        "kolom = int(input(\"Masukkan jumlah kolom matriks M: \"))\n",
        "# Input elemen-elemen matriks M\n",
        "print(\"Masukkan elemen-elemen matriks M:\")\n",
        "M = []\n",
        "for i in range(baris):\n",
        " baris_matriks = []\n",
        " for j in range(kolom):\n",
        "  elemen = int(input(f\"Elemen M[{i}][{j}]: \"))\n",
        " baris_matriks.append(elemen)\n",
        " M.append(baris_matriks)\n",
        "# Membuat transpose dari M (MTranspose)\n",
        "MTranspose = []\n",
        "for i in range(kolom): # baris MTranspose = kolom M\n",
        " baris_transpose = []\n",
        " for j in range(baris): # kolom MTranspose = baris M\n",
        "   baris_transpose.append(M[j][i]) # MTranspose[i][j] =\n",
        "\n",
        " M[j][i]\n",
        " MTranspose.append(baris_transpose)\n",
        "\n",
        " # Output hasil transpose\n",
        " print(\"\\nTranspose dari matriks M:\")\n",
        "for baris in MTranspose:\n",
        " print(baris)"
      ],
      "metadata": {
        "id": "Mix_oigmzFIi"
      },
      "execution_count": null,
      "outputs": []
    }
  ]
}